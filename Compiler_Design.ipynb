{
  "nbformat": 4,
  "nbformat_minor": 0,
  "metadata": {
    "colab": {
      "name": "Compiler Design.ipynb",
      "provenance": [],
      "collapsed_sections": [
        "DacIh3P6Jcjx",
        "jLaNIgg-vy7O",
        "syKaA3C5v_3x",
        "jc9dI1gTVFL_",
        "CPjPMcQdwVHs",
        "C0DDfTUYUXdL"
      ],
      "toc_visible": true,
      "authorship_tag": "ABX9TyN7RiNJPDNsciPXqARTW/CY",
      "include_colab_link": true
    },
    "kernelspec": {
      "display_name": "Python 3",
      "name": "python3"
    }
  },
  "cells": [
    {
      "cell_type": "markdown",
      "metadata": {
        "id": "view-in-github",
        "colab_type": "text"
      },
      "source": [
        "<a href=\"https://colab.research.google.com/github/online6731/compiler-design/blob/main/Compiler_Design.ipynb\" target=\"_parent\"><img src=\"https://colab.research.google.com/assets/colab-badge.svg\" alt=\"Open In Colab\"/></a>"
      ]
    },
    {
      "cell_type": "markdown",
      "metadata": {
        "id": "qW0ui_FmPUjn"
      },
      "source": [
        "# Compiler Design"
      ]
    },
    {
      "cell_type": "markdown",
      "metadata": {
        "id": "DacIh3P6Jcjx"
      },
      "source": [
        "## Phases of Compiler\n",
        "\n",
        "The compilation process is a sequence of various phases. Each phase takes input from its previous stage, has its own representation of source program, and feeds its output to the next phase of the compiler. Let us understand the phases of a compiler.\n"
      ]
    },
    {
      "cell_type": "markdown",
      "metadata": {
        "id": "jLaNIgg-vy7O"
      },
      "source": [
        "### Lexical Analysis (Lexer, Tokenizer)\n",
        "\n",
        "The first phase of compiler works as a text scanner. This phase scans the source code as a stream of characters and converts it into meaningful lexemes. Lexical analyzer represents these lexemes in the form of tokens as:\n",
        "\n",
        "<token-name, attribute-value>"
      ]
    },
    {
      "cell_type": "markdown",
      "metadata": {
        "id": "syKaA3C5v_3x"
      },
      "source": [
        "#### implementation"
      ]
    },
    {
      "cell_type": "code",
      "metadata": {
        "id": "65Qcr3yZv_Fs"
      },
      "source": [
        "text = 'int age = 20 + more'"
      ],
      "execution_count": null,
      "outputs": []
    },
    {
      "cell_type": "markdown",
      "metadata": {
        "id": "fHyxEzb8f24Q"
      },
      "source": [
        "##### Split function\n",
        "Problem: only works if there is whitespace between lexems"
      ]
    },
    {
      "cell_type": "code",
      "metadata": {
        "colab": {
          "base_uri": "https://localhost:8080/"
        },
        "id": "QTIBC1WYf1wi",
        "outputId": "9186b880-72fe-4434-d857-d60dee7c9f64"
      },
      "source": [
        "text.split(' ')"
      ],
      "execution_count": null,
      "outputs": [
        {
          "output_type": "execute_result",
          "data": {
            "text/plain": [
              "['int', 'age', '=', '20', '+', 'more']"
            ]
          },
          "metadata": {
            "tags": []
          },
          "execution_count": 4
        }
      ]
    },
    {
      "cell_type": "markdown",
      "metadata": {
        "id": "uaxUBIAkhNPU"
      },
      "source": [
        "##### nltk\n",
        "\n",
        "Problem: only works if there is whitespace between lexems"
      ]
    },
    {
      "cell_type": "code",
      "metadata": {
        "colab": {
          "base_uri": "https://localhost:8080/"
        },
        "id": "EaSi6yr1hKqx",
        "outputId": "9c51b933-8d48-4f77-9000-a62e058d8275"
      },
      "source": [
        "! pip install nltk\n",
        "\n",
        "import nltk\n",
        "\n",
        "nltk.tokenize.WhitespaceTokenizer().tokenize(text)"
      ],
      "execution_count": null,
      "outputs": [
        {
          "output_type": "stream",
          "text": [
            "Requirement already satisfied: nltk in /usr/local/lib/python3.6/dist-packages (3.2.5)\n",
            "Requirement already satisfied: six in /usr/local/lib/python3.6/dist-packages (from nltk) (1.15.0)\n"
          ],
          "name": "stdout"
        },
        {
          "output_type": "execute_result",
          "data": {
            "text/plain": [
              "['int', 'age', '=', '20', '+', 'more']"
            ]
          },
          "metadata": {
            "tags": []
          },
          "execution_count": 5
        }
      ]
    },
    {
      "cell_type": "markdown",
      "metadata": {
        "id": "a0reGH-KgKIh"
      },
      "source": [
        "##### Regex\n",
        "Problem: Can't recognize tokens based on previous and after tokens (doesn't have state)"
      ]
    },
    {
      "cell_type": "code",
      "metadata": {
        "colab": {
          "base_uri": "https://localhost:8080/"
        },
        "id": "mhqn17TBgGJn",
        "outputId": "45984460-8fcf-48e7-d54f-7b6229246d7b"
      },
      "source": [
        "import re\n",
        "\n",
        "patterns = {\n",
        "    'identifier': '[a-zA-Z][a-zA-Z0-9]*',\n",
        "    'number': '[0-9].',\n",
        "    'int_kw': 'int',\n",
        "    'add_op': '\\+',\n",
        "    'equal_op': '=',\n",
        "}\n",
        "\n",
        "for name, pattern in patterns.items():\n",
        "    print(name, ':', re.compile(pattern).findall(text))"
      ],
      "execution_count": null,
      "outputs": [
        {
          "output_type": "stream",
          "text": [
            "identifier : ['int', 'age', 'more']\n",
            "number : ['20']\n",
            "int_kw : ['int']\n",
            "add_op : ['+']\n",
            "equal_op : ['=']\n"
          ],
          "name": "stdout"
        }
      ]
    },
    {
      "cell_type": "markdown",
      "metadata": {
        "id": "jc9dI1gTVFL_"
      },
      "source": [
        "##### PLY\n",
        "Problem: Can't recognize tokens based on previous and after tokens (doesn't have state)"
      ]
    },
    {
      "cell_type": "code",
      "metadata": {
        "colab": {
          "base_uri": "https://localhost:8080/"
        },
        "id": "Zcho7kuYU_Yb",
        "outputId": "5ebe2818-45a5-48e3-b603-06897b6752b1"
      },
      "source": [
        "! pip install ply\n",
        "\n",
        "open('program.py', 'w+').write(\"\"\"\n",
        "\n",
        "from ply import *\n",
        "import re\n",
        "\n",
        "text = 'int age = 20 + more'\n",
        "\n",
        "tokens = ('equal', 'plus', 'int', 'number','id')\n",
        "\n",
        "t_ignore = ' '\n",
        "t_int = 'int'\n",
        "t_plus = '\\+'\n",
        "t_equal = '='\n",
        "t_number = '[0-9].'\n",
        "\n",
        "def t_id(t):\n",
        "    '[a-zA-Z][a-zA-Z0-9]*'\n",
        "    for tok in tokens[:-1]:\n",
        "        reg = globals()['t_' + tok]\n",
        "        if re.compile(reg).match(t.value):\n",
        "            t.type = t.value\n",
        "    return t\n",
        "    \n",
        "lex.lex()\n",
        "\n",
        "lex.input(text)\n",
        "\n",
        "print('Text: ', text)\n",
        "\n",
        "while True:\n",
        "    tok = lex.token()\n",
        "    if not tok:\n",
        "        break\n",
        "    else:\n",
        "        print(tok)\n",
        "\n",
        "\"\"\")\n",
        "\n",
        "! python program.py"
      ],
      "execution_count": null,
      "outputs": [
        {
          "output_type": "stream",
          "text": [
            "Collecting ply\n",
            "\u001b[?25l  Downloading https://files.pythonhosted.org/packages/a3/58/35da89ee790598a0700ea49b2a66594140f44dec458c07e8e3d4979137fc/ply-3.11-py2.py3-none-any.whl (49kB)\n",
            "\r\u001b[K     |██████▋                         | 10kB 15.6MB/s eta 0:00:01\r\u001b[K     |█████████████▏                  | 20kB 12.7MB/s eta 0:00:01\r\u001b[K     |███████████████████▉            | 30kB 8.9MB/s eta 0:00:01\r\u001b[K     |██████████████████████████▍     | 40kB 8.3MB/s eta 0:00:01\r\u001b[K     |████████████████████████████████| 51kB 3.3MB/s \n",
            "\u001b[?25hInstalling collected packages: ply\n",
            "Successfully installed ply-3.11\n",
            "WARNING: No t_error rule is defined\n",
            "Text:  int age = 20 + more\n",
            "LexToken(int,'int',1,0)\n",
            "LexToken(id,'age',1,4)\n",
            "LexToken(equal,'=',1,8)\n",
            "LexToken(number,'20',1,10)\n",
            "LexToken(plus,'+',1,13)\n",
            "LexToken(id,'more',1,15)\n"
          ],
          "name": "stdout"
        }
      ]
    },
    {
      "cell_type": "markdown",
      "metadata": {
        "id": "CPjPMcQdwVHs"
      },
      "source": [
        "### Syntax Analysis (Parser)\n",
        "The next phase is called the syntax analysis or parsing. It takes the token produced by lexical analysis as input and generates a parse tree (or syntax tree). In this phase, token arrangements are checked against the source code grammar, i.e. the parser checks if the expression made by the tokens is syntactically correct."
      ]
    },
    {
      "cell_type": "markdown",
      "metadata": {
        "id": "MENiBPlxJqwt"
      },
      "source": [
        "#### implementation"
      ]
    },
    {
      "cell_type": "code",
      "metadata": {
        "id": "kUMPSGlAvBGM"
      },
      "source": [
        ""
      ],
      "execution_count": null,
      "outputs": []
    },
    {
      "cell_type": "markdown",
      "metadata": {
        "id": "v1BgK52oUAtT"
      },
      "source": [
        "### Semantic Analysis\n",
        "Semantic analysis checks whether the parse tree constructed follows the rules of language. For example, assignment of values is between compatible data types, and adding string to an integer. Also, the semantic analyzer keeps track of identifiers, their types and expressions; whether identifiers are declared before use or not etc. The semantic analyzer produces an annotated syntax tree as an output."
      ]
    },
    {
      "cell_type": "markdown",
      "metadata": {
        "id": "rgWiRfhLUOpQ"
      },
      "source": [
        "### Intermediate Code Generation\n",
        "After semantic analysis the compiler generates an intermediate code of the source code for the target machine. It represents a program for some abstract machine. It is in between the high-level language and the machine language. This intermediate code should be generated in such a way that it makes it easier to be translated into the target machine code."
      ]
    },
    {
      "cell_type": "markdown",
      "metadata": {
        "id": "9-Di6bTwURG6"
      },
      "source": [
        "### Code Generation\n",
        "In this phase, the code generator takes the optimized representation of the intermediate code and maps it to the target machine language. The code generator translates the intermediate code into a sequence of (generally) re-locatable machine code. Sequence of instructions of machine code performs the task as the intermediate code would do."
      ]
    },
    {
      "cell_type": "markdown",
      "metadata": {
        "id": "C0DDfTUYUXdL"
      },
      "source": [
        "### Symbol Table\n",
        "It is a data-structure maintained throughout all the phases of a compiler. All the identifier's names along with their types are stored here. The symbol table makes it easier for the compiler to quickly search the identifier record and retrieve it. The symbol table is also used for scope management."
      ]
    },
    {
      "cell_type": "markdown",
      "metadata": {
        "id": "B1bQkpj4JvSg"
      },
      "source": [
        "#### implementation"
      ]
    },
    {
      "cell_type": "code",
      "metadata": {
        "id": "V4C8XhXRINOk"
      },
      "source": [
        ""
      ],
      "execution_count": null,
      "outputs": []
    },
    {
      "cell_type": "markdown",
      "metadata": {
        "id": "1BPuummJPtqX"
      },
      "source": [
        "## Antlr"
      ]
    },
    {
      "cell_type": "markdown",
      "metadata": {
        "id": "cIMxZVj5PxVy"
      },
      "source": [
        "### Installation"
      ]
    },
    {
      "cell_type": "code",
      "metadata": {
        "colab": {
          "base_uri": "https://localhost:8080/"
        },
        "id": "o_C3xk59PzUO",
        "outputId": "601b1e4c-25e5-44c8-b33d-bc0fddaea1be"
      },
      "source": [
        "# Download antlr 4.9 java library\n",
        "! sudo curl -o antlr.jar https://www.antlr.org/download/antlr-4.9-complete.jar\n",
        "\n",
        "# install antlr runtime for python3\n",
        "! pip install antlr4-python3-runtime\n",
        "\n",
        "# install antlr for typescript\n",
        "! npm i -g antlr4ts\n",
        "! npm i -g antlr4ts-cli"
      ],
      "execution_count": null,
      "outputs": [
        {
          "output_type": "stream",
          "text": [
            "  % Total    % Received % Xferd  Average Speed   Time    Time     Time  Current\n",
            "                                 Dload  Upload   Total   Spent    Left  Speed\n",
            "100 2051k  100 2051k    0     0  2314k      0 --:--:-- --:--:-- --:--:-- 2314k\n",
            "Collecting antlr4-python3-runtime\n",
            "\u001b[?25l  Downloading https://files.pythonhosted.org/packages/ab/8e/f72c4523030ea8cecb1f2b26a9151fe916292ae05f42fea1981872a787f1/antlr4-python3-runtime-4.9.tar.gz (114kB)\n",
            "\u001b[K     |████████████████████████████████| 122kB 13.5MB/s \n",
            "\u001b[?25hBuilding wheels for collected packages: antlr4-python3-runtime\n",
            "  Building wheel for antlr4-python3-runtime (setup.py) ... \u001b[?25l\u001b[?25hdone\n",
            "  Created wheel for antlr4-python3-runtime: filename=antlr4_python3_runtime-4.9-cp36-none-any.whl size=140987 sha256=8630fb52175b3b3d67c7565122dd312f12e2baddfe8007fc6da73e4df32ba96d\n",
            "  Stored in directory: /root/.cache/pip/wheels/ab/24/f1/a2af19f6f1053406296a97bc4ae1b9dabf65b74e9b543d2434\n",
            "Successfully built antlr4-python3-runtime\n",
            "Installing collected packages: antlr4-python3-runtime\n",
            "Successfully installed antlr4-python3-runtime-4.9\n",
            "\u001b[K\u001b[?25h+ antlr4ts@0.5.0-alpha.3\n",
            "added 1 package from 1 contributor in 0.617s\n",
            "\u001b[K\u001b[?25h/tools/node/bin/antlr4ts -> /tools/node/lib/node_modules/antlr4ts-cli/antlr4ts\n",
            "+ antlr4ts-cli@0.5.0-alpha.3\n",
            "added 1 package from 1 contributor in 1.009s\n",
            "\n",
            "\u001b[33m\u001b[39m\n",
            "\u001b[33m   ╭─────────────────────────────────────────────────────────────────╮\u001b[39m\n",
            "   \u001b[33m│\u001b[39m                                                                 \u001b[33m│\u001b[39m\n",
            "   \u001b[33m│\u001b[39m      New \u001b[32mpatch\u001b[39m version of npm available! \u001b[31m6.14.8\u001b[39m → \u001b[32m6.14.10\u001b[39m       \u001b[33m│\u001b[39m\n",
            "   \u001b[33m│\u001b[39m   \u001b[33mChangelog:\u001b[39m \u001b[36mhttps://github.com/npm/cli/releases/tag/v6.14.10\u001b[39m   \u001b[33m│\u001b[39m\n",
            "   \u001b[33m│\u001b[39m                Run \u001b[32mnpm install -g npm\u001b[39m to update!                \u001b[33m│\u001b[39m\n",
            "   \u001b[33m│\u001b[39m                                                                 \u001b[33m│\u001b[39m\n",
            "\u001b[33m   ╰─────────────────────────────────────────────────────────────────╯\u001b[39m\n",
            "\u001b[33m\u001b[39m\n"
          ],
          "name": "stdout"
        }
      ]
    },
    {
      "cell_type": "markdown",
      "metadata": {
        "id": "cfIoXDmyRVTg"
      },
      "source": [
        "### Sample Grammars"
      ]
    },
    {
      "cell_type": "code",
      "metadata": {
        "id": "cRUUpjGqRqXB",
        "colab": {
          "base_uri": "https://localhost:8080/"
        },
        "outputId": "c2fd52e2-f46c-48f3-f8ba-840e53a832b5"
      },
      "source": [
        "! git clone https://github.com/jszheng/py3antlr4book"
      ],
      "execution_count": null,
      "outputs": [
        {
          "output_type": "stream",
          "text": [
            "Cloning into 'py3antlr4book'...\n",
            "remote: Enumerating objects: 14, done.\u001b[K\n",
            "remote: Counting objects: 100% (14/14), done.\u001b[K\n",
            "remote: Compressing objects: 100% (12/12), done.\u001b[K\n",
            "remote: Total 261 (delta 4), reused 8 (delta 2), pack-reused 247\u001b[K\n",
            "Receiving objects: 100% (261/261), 4.57 MiB | 19.09 MiB/s, done.\n",
            "Resolving deltas: 100% (77/77), done.\n"
          ],
          "name": "stdout"
        }
      ]
    },
    {
      "cell_type": "markdown",
      "metadata": {
        "id": "CbHknsHhRe3T"
      },
      "source": [
        "#### Calculator"
      ]
    },
    {
      "cell_type": "code",
      "metadata": {
        "id": "l-oOiqQnRdj0",
        "colab": {
          "base_uri": "https://localhost:8080/"
        },
        "outputId": "f10cd1fe-9fc3-4ae2-e351-57829fc7adb4"
      },
      "source": [
        "! java -jar antlr.jar -Dlanguage=Python3 py3antlr4book/10-calc/Expr.g4\n",
        "\n",
        "# ! python3 py3antlr4book/10-calc/calc.py"
      ],
      "execution_count": null,
      "outputs": [
        {
          "output_type": "stream",
          "text": [
            "Traceback (most recent call last):\n",
            "  File \"py3antlr4book/10-calc/calc.py\", line 14, in <module>\n",
            "    line = sys.stdin.readline()\n",
            "KeyboardInterrupt\n",
            "^C\n"
          ],
          "name": "stdout"
        }
      ]
    },
    {
      "cell_type": "markdown",
      "metadata": {
        "id": "ZoGVf5WLRdMU"
      },
      "source": [
        "#### JSON"
      ]
    },
    {
      "cell_type": "code",
      "metadata": {
        "id": "Z1VcOMynRlrV",
        "colab": {
          "base_uri": "https://localhost:8080/"
        },
        "outputId": "140f7d65-6c5d-459c-d946-e00037e0a1a8"
      },
      "source": [
        "! java -jar antlr.jar -Dlanguage=Python3 py3antlr4book/08-JSON/JSON.g4\n",
        "\n",
        "! python3 py3antlr4book/08-JSON/json2xml.py py3antlr4book/08-JSON/t.json"
      ],
      "execution_count": null,
      "outputs": [
        {
          "output_type": "stream",
          "text": [
            "(json (obj { (pair \"description\" : (value \"An imaginary server config file\")) , (pair \"logs\" : (value (obj { (pair \"level\" : (value \"verbose\")) , (pair \"dir\" : (value \"/var/log\")) }))) , (pair \"host\" : (value \"antlr.org\")) , (pair \"admin\" : (value (array [ (value \"parrt\") , (value \"tombu\") ]))) , (pair \"aliases\" : (value (array [ ]))) }))\n",
            "Start Walking...\n",
            "\n",
            "<description>An imaginary server config file</description>\n",
            "<logs>\n",
            "<level>verbose</level>\n",
            "<dir>/var/log</dir>\n",
            "</logs>\n",
            "<host>antlr.org</host>\n",
            "<admin>\n",
            "<element>parrt</element>\n",
            "<element>tombu</element>\n",
            "</admin>\n",
            "<aliases></aliases>\n",
            "\n"
          ],
          "name": "stdout"
        }
      ]
    },
    {
      "cell_type": "markdown",
      "metadata": {
        "id": "PoHBYQHXM-0A"
      },
      "source": [
        "## My Language\n",
        "Chess tournament discriptor"
      ]
    },
    {
      "cell_type": "markdown",
      "metadata": {
        "id": "EJPx8yY3NreE"
      },
      "source": [
        "### Grammar"
      ]
    },
    {
      "cell_type": "code",
      "metadata": {
        "colab": {
          "base_uri": "https://localhost:8080/"
        },
        "id": "2eNrIHcqNCzk",
        "outputId": "27547a01-9d5c-43d7-de67-de6a5aa526f4"
      },
      "source": [
        "open('Grammar.g4', 'w+').write(\"\"\"\n",
        "grammar Grammar;\n",
        "start       : chess_game+;\n",
        "chess_game  : '<chess_game>' information '</chess_game>';\n",
        "information : players result;\n",
        "players     : player player;\n",
        "player      : '<player>' name code color '</player>';\n",
        "name        : '<name>' STRING '</name>';\n",
        "code        : '<code>' NUMBER '</code>';\n",
        "color       : '<color>' COLOR '</color>';\n",
        "result      : '<result>' winner time moves '</result>';\n",
        "winner      : '<winner>' NUMBER '</winner>';\n",
        "time        : '<time>' NUMBER '</time>';\n",
        "moves       : '<moves>' NUMBER '</moves>';\n",
        "NUMBER      : [0-9]+;\n",
        "COLOR       : 'white' | 'black';\n",
        "STRING      : [a-z]+;\n",
        "WHITESPACE  : ( ' ' | '\\\\t' | '\\\\n' | '\\\\r\\\\n' )+ -> skip;\n",
        "\"\"\")\n",
        "\n",
        "# an example text for grammar\n",
        "open('test', 'w+').write(\"\"\"\n",
        "<chess_game>\n",
        "    <player>\n",
        "        <name> ali </name>\n",
        "        <code> 2 </code>\n",
        "        <color> black </color>\n",
        "    </player>\n",
        "    <player>\n",
        "        <name> alim </name>\n",
        "        <code> 1 </code>\n",
        "        <color> black </color>\n",
        "    </player>\n",
        "    <result>\n",
        "        <winner> 1 </winner>\n",
        "        <time> 200000 </time>\n",
        "        <moves> 10 </moves>\n",
        "    </result>\n",
        "</chess_game>\n",
        "\"\"\")\n"
      ],
      "execution_count": null,
      "outputs": [
        {
          "output_type": "execute_result",
          "data": {
            "text/plain": [
              "363"
            ]
          },
          "metadata": {
            "tags": []
          },
          "execution_count": 12
        }
      ]
    },
    {
      "cell_type": "markdown",
      "metadata": {
        "id": "w70F3yNlOCsc"
      },
      "source": [
        "### Parsing the test\n"
      ]
    },
    {
      "cell_type": "code",
      "metadata": {
        "colab": {
          "base_uri": "https://localhost:8080/"
        },
        "id": "za_phxk-awvc",
        "outputId": "2c1a16b9-8e69-40af-d0a6-49b608f11cfc"
      },
      "source": [
        "# Generating lexer, parser and ... using antlr\n",
        "! java -jar antlr.jar -Dlanguage=Python3 -visitor Grammar.g4\n",
        "\n",
        "# printing the generated files\n",
        "! ls Grammar*.py\n",
        "\n",
        "# Assembling all generated code in parser.py\n",
        "open('parser.py', 'w+').write(\"\"\"\n",
        "import sys\n",
        "from antlr4 import *\n",
        "from GrammarLexer import GrammarLexer\n",
        "from GrammarParser import GrammarParser\n",
        "\n",
        "input_stream = FileStream(sys.argv[1])\n",
        "lexer = GrammarLexer(input_stream)\n",
        "stream = CommonTokenStream(lexer)\n",
        "parser = GrammarParser(stream)\n",
        "tree = parser.start()\n",
        "\"\"\")\n",
        "\n",
        "# Running the parser against the test file\n",
        "! python3 parser.py test"
      ],
      "execution_count": null,
      "outputs": [
        {
          "output_type": "stream",
          "text": [
            "GrammarLexer.py  GrammarListener.py  GrammarParser.py\n"
          ],
          "name": "stdout"
        }
      ]
    },
    {
      "cell_type": "markdown",
      "metadata": {
        "id": "m03emvOrs6QJ"
      },
      "source": [
        "### Actions\n",
        "Actions are blocks of text written in the target language and enclosed in curly braces. The recognizer triggers them according to their locations within the grammar. For example, the following rule emits \"found a decl\" after the parser has seen a valid declaration:\n",
        "\n",
        "```\n",
        "decl: type ID ';' {System.out.println(\"found a decl\");} ;\n",
        "\n",
        "type: 'int' | 'float' ;\n",
        "```\n",
        "\n"
      ]
    },
    {
      "cell_type": "markdown",
      "metadata": {
        "id": "Md_cVNE12EdT"
      },
      "source": [
        "#### Python"
      ]
    },
    {
      "cell_type": "code",
      "metadata": {
        "colab": {
          "base_uri": "https://localhost:8080/"
        },
        "id": "e2sJCYPqs5ty",
        "outputId": "93c0c2b5-356c-4a62-a5ca-1fe177569b7b"
      },
      "source": [
        "open('Grammar.g4', 'w+').write(\"\"\"\n",
        "\n",
        "grammar Grammar;\n",
        "@parser::members {\n",
        "color_check = ''\n",
        "games = 0\n",
        "}\n",
        "\n",
        "start       : chess_game+ \n",
        "{\n",
        "print(f\"Number of games: {self.games}\")\n",
        "};\n",
        "\n",
        "chess_game  : '<chess_game>' information '</chess_game>'\n",
        "{\n",
        "self.games += 1\n",
        "};\n",
        "\n",
        "information : players result;\n",
        "players     : player player;\n",
        "player      : '<player>' name code color '</player>';\n",
        "name        : '<name>' STRING '</name>';\n",
        "code        : '<code>' NUMBER '</code>';\n",
        "color       : '<color>' COLOR '</color>'\n",
        "{\n",
        "if self.color_check == $COLOR.text:\n",
        "    print(f\"ERROR ({$COLOR.line}): Both players can't have the same color '{self.color_check}'\");\n",
        "self.color_check = $COLOR.text;\n",
        "};\n",
        "\n",
        "result      : '<result>' winner time moves '</result>';\n",
        "winner      : '<winner>' NUMBER '</winner>';\n",
        "time        : '<time>' NUMBER '</time>'\n",
        "{\n",
        "if 1800 < int($NUMBER.text):\n",
        "    print(f\"ERROR ({$NUMBER.line}): Time of each game can't be more than 30 minutes\")\n",
        "};\n",
        "\n",
        "moves       : '<moves>' NUMBER '</moves>';\n",
        "NUMBER      : [0-9]+;\n",
        "COLOR       : 'white' | 'black';\n",
        "STRING      : [a-z]+;\n",
        "WHITESPACE  : ( ' ' | '\\\\t' | '\\\\n' | '\\\\r\\\\n' )+ -> skip;\n",
        "\"\"\")\n",
        "\n",
        "! java -jar antlr.jar -Dlanguage=Python3 -visitor Grammar.g4\n",
        "! cat test\n",
        "! python3 parser.py test"
      ],
      "execution_count": null,
      "outputs": [
        {
          "output_type": "stream",
          "text": [
            "\n",
            "<chess_game>\n",
            "    <player>\n",
            "        <name> ali </name>\n",
            "        <code> 2 </code>\n",
            "        <color> black </color>\n",
            "    </player>\n",
            "    <player>\n",
            "        <name> alim </name>\n",
            "        <code> 1 </code>\n",
            "        <color> black </color>\n",
            "    </player>\n",
            "    <result>\n",
            "        <winner> 1 </winner>\n",
            "        <time> 200000 </time>\n",
            "        <moves> 10 </moves>\n",
            "    </result>\n",
            "</chess_game>\n",
            "ERROR (11): Both players can't have the same color 'black'\n",
            "ERROR (15): Time of each game can't be more than 30 minutes\n",
            "Number of games: 1\n",
            "Start Walking ...\n",
            "games: {'ali', 'alim'}\n"
          ],
          "name": "stdout"
        }
      ]
    },
    {
      "cell_type": "markdown",
      "metadata": {
        "id": "h3aEHnHH2ITf"
      },
      "source": [
        "#### Javascript"
      ]
    },
    {
      "cell_type": "code",
      "metadata": {
        "colab": {
          "base_uri": "https://localhost:8080/"
        },
        "id": "Z3Cci7Lk2OPI",
        "outputId": "1047f1f6-3480-4199-a8eb-4f07c9324bc4"
      },
      "source": [
        "open('Grammar.g4', 'w+').write(\"\"\"\r\n",
        "\r\n",
        "grammar Grammar;\r\n",
        "@parser::members {\r\n",
        "games = 0\r\n",
        "}\r\n",
        "\r\n",
        "start       : chess_game+\r\n",
        "{\r\n",
        "console.log(\"Number of games: \" + this.games)\r\n",
        "};\r\n",
        "\r\n",
        "chess_game  : '<chess_game>' information '</chess_game>'\r\n",
        "{\r\n",
        "this.games += 1\r\n",
        "};\r\n",
        "\r\n",
        "information : players result;\r\n",
        "players     : player player;\r\n",
        "player      : '<player>' name code color '</player>';\r\n",
        "name        : '<name>' STRING '</name>';\r\n",
        "code        : '<code>' NUMBER '</code>';\r\n",
        "color       : '<color>' COLOR '</color>';\r\n",
        "result      : '<result>' winner time moves '</result>';\r\n",
        "winner      : '<winner>' NUMBER '</winner>';\r\n",
        "time        : '<time>' NUMBER '</time>';\r\n",
        "moves       : '<moves>' NUMBER '</moves>';\r\n",
        "NUMBER      : [0-9]+;\r\n",
        "COLOR       : 'white' | 'black';\r\n",
        "STRING      : [a-z]+;\r\n",
        "WHITESPACE  : ( ' ' | '\\\\t' | '\\\\n' | '\\\\r\\\\n' )+ -> skip;\r\n",
        "\"\"\")\r\n",
        "\r\n",
        "! mkdir ts\r\n",
        "! mv Grammar.g4 ts/Grammar.g4\r\n",
        "! antlr4ts ts/Grammar.g4\r\n",
        "! ls ts/Grammar*.ts\r\n",
        "! zip ts.zip ts/*"
      ],
      "execution_count": null,
      "outputs": [
        {
          "output_type": "stream",
          "text": [
            "Generating file '/content/ts/GrammarLexer.interp' for grammar 'ts/Grammar.g4'\n",
            "Generating file '/content/ts/GrammarLexer.ts' for grammar 'ts/Grammar.g4'\n",
            "Generating file '/content/ts/GrammarLexer.tokens' for grammar 'ts/Grammar.g4'\n",
            "Generating file '/content/ts/Grammar.interp' for grammar 'ts/Grammar.g4'\n",
            "Generating file '/content/ts/GrammarParser.ts' for grammar 'ts/Grammar.g4'\n",
            "Generating file '/content/ts/GrammarListener.ts' for grammar 'ts/Grammar.g4'\n",
            "Generating file '/content/ts/Grammar.tokens' for grammar 'ts/Grammar.g4'\n",
            "ts/GrammarLexer.ts  ts/GrammarListener.ts  ts/GrammarParser.ts\n",
            "  adding: ts/Grammar.g4 (deflated 53%)\n",
            "  adding: ts/Grammar.interp (deflated 70%)\n",
            "  adding: ts/GrammarLexer.interp (deflated 77%)\n",
            "  adding: ts/GrammarLexer.tokens (deflated 45%)\n",
            "  adding: ts/GrammarLexer.ts (deflated 75%)\n",
            "  adding: ts/GrammarListener.ts (deflated 86%)\n",
            "  adding: ts/GrammarParser.ts (deflated 86%)\n",
            "  adding: ts/Grammar.tokens (deflated 45%)\n"
          ],
          "name": "stdout"
        }
      ]
    },
    {
      "cell_type": "markdown",
      "metadata": {
        "id": "Ec9q4QCCxfy1"
      },
      "source": [
        "### Listener"
      ]
    },
    {
      "cell_type": "markdown",
      "metadata": {
        "id": "X6E4STlgjjw5"
      },
      "source": [
        "#### Python"
      ]
    },
    {
      "cell_type": "code",
      "metadata": {
        "colab": {
          "base_uri": "https://localhost:8080/"
        },
        "id": "Y62Ph2WfjjUU",
        "outputId": "d202b978-191c-44fd-e343-08eafbb6fd25"
      },
      "source": [
        "open('parser.py', 'w+').write(\"\"\"\r\n",
        "import sys\r\n",
        "from antlr4 import *\r\n",
        "from GrammarLexer import GrammarLexer\r\n",
        "from GrammarParser import GrammarParser\r\n",
        "from GrammarListener import GrammarListener\r\n",
        "\r\n",
        "class GrammarListener(GrammarListener):\r\n",
        "    def __init__(self):\r\n",
        "        self.games = 0\r\n",
        "        self.players = set()\r\n",
        "    \r\n",
        "    def exitChess_game(self, ctx):\r\n",
        "        self.games += 1\r\n",
        "    \r\n",
        "    def enterName(self, ctx):\r\n",
        "        self.players.add(ctx.STRING().getText())\r\n",
        "\r\n",
        "\r\n",
        "input_stream = FileStream(sys.argv[1])\r\n",
        "lexer = GrammarLexer(input_stream)\r\n",
        "stream = CommonTokenStream(lexer)\r\n",
        "parser = GrammarParser(stream)\r\n",
        "tree = parser.start()\r\n",
        "\r\n",
        "print('Start Walking ...')\r\n",
        "listener = GrammarListener()\r\n",
        "walker = ParseTreeWalker()\r\n",
        "walker.walk(listener, tree)\r\n",
        "print('games:', listener.games)\r\n",
        "print('players:', listener.players)\r\n",
        "\"\"\")\r\n",
        "\r\n",
        "! python3 parser.py test"
      ],
      "execution_count": null,
      "outputs": [
        {
          "output_type": "stream",
          "text": [
            "ERROR (11): Both players can't have the same color 'black'\n",
            "ERROR (15): Time of each game can't be more than 30 minutes\n",
            "Number of games: 1\n",
            "Start Walking ...\n",
            "games: 1\n",
            "players: {'alim', 'ali'}\n"
          ],
          "name": "stdout"
        }
      ]
    },
    {
      "cell_type": "markdown",
      "metadata": {
        "id": "jtAdH4dpFSsb"
      },
      "source": [
        "#### Javascript / Typescript\r\n",
        "\r\n",
        "https://codesandbox.io/s/objective-banach-bbujc"
      ]
    },
    {
      "cell_type": "markdown",
      "metadata": {
        "id": "uwLZpYL2o8DK"
      },
      "source": [
        "### Visitor"
      ]
    },
    {
      "cell_type": "markdown",
      "metadata": {
        "id": "kja8kx-7pKA1"
      },
      "source": [
        "#### Python"
      ]
    },
    {
      "cell_type": "code",
      "metadata": {
        "id": "1XWAXvkbto8d",
        "colab": {
          "base_uri": "https://localhost:8080/"
        },
        "outputId": "54dbd7c6-1204-4d99-b095-a57efcfdacf2"
      },
      "source": [
        "open('parser.py', 'w+').write(\"\"\"\r\n",
        "import sys\r\n",
        "from antlr4 import *\r\n",
        "from GrammarLexer import GrammarLexer\r\n",
        "from GrammarParser import GrammarParser\r\n",
        "from GrammarVisitor import GrammarVisitor\r\n",
        "\r\n",
        "class GrammarVisitor(GrammarVisitor):\r\n",
        "    def __init__(self):\r\n",
        "        self.games = 0\r\n",
        "        self.players = set()\r\n",
        "    \r\n",
        "    def visitChess_game(self, ctx):\r\n",
        "        self.games += 1\r\n",
        "        return self.visitChildren(ctx)\r\n",
        "    \r\n",
        "    def visitName(self, ctx):\r\n",
        "        self.players.add(ctx.STRING().getText())\r\n",
        "    \r\n",
        "    def visitResult(self, ctx):\r\n",
        "        return 0\r\n",
        "    \r\n",
        "\r\n",
        "input_stream = FileStream(sys.argv[1])\r\n",
        "lexer = GrammarLexer(input_stream)\r\n",
        "stream = CommonTokenStream(lexer)\r\n",
        "parser = GrammarParser(stream)\r\n",
        "tree = parser.start()\r\n",
        "\r\n",
        "print('Start Walking ...')\r\n",
        "visitor = GrammarVisitor()\r\n",
        "visitor.visit(tree)\r\n",
        "print('games:', visitor.games)\r\n",
        "print('players:', visitor.players)\r\n",
        "\"\"\")\r\n",
        "\r\n",
        "! python3 parser.py test"
      ],
      "execution_count": null,
      "outputs": [
        {
          "output_type": "stream",
          "text": [
            "Number of games: 1\n",
            "Start Walking ...\n",
            "games: 1\n",
            "players: {'ali', 'alim'}\n"
          ],
          "name": "stdout"
        }
      ]
    },
    {
      "cell_type": "markdown",
      "metadata": {
        "id": "LmTBJphpFhPI"
      },
      "source": [
        "#### Javascript / Typescript"
      ]
    }
  ]
}